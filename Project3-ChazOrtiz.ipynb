{
 "cells": [
  {
   "cell_type": "raw",
   "id": "b9535d25-df60-40bc-957b-a547e4113d5d",
   "metadata": {},
   "source": [
    "Chaz Ortiz, zse260"
   ]
  },
  {
   "cell_type": "markdown",
   "id": "219923d1-1a64-441e-8bad-f9754fb1ee09",
   "metadata": {},
   "source": [
    "# Project 3"
   ]
  },
  {
   "cell_type": "markdown",
   "id": "119dbe38-ea65-4367-a4da-f6a5a382e283",
   "metadata": {},
   "source": [
    "This program reads a text file containing the novel Metamorphosis by Franz Kafka and analyzes it by:\n",
    "how many words are in the novel,\n",
    "how many unique words are in the novel, and \n",
    "how often the most used words occur in the novel."
   ]
  },
  {
   "cell_type": "code",
   "execution_count": 2,
   "id": "16d6dea1-9d0c-452d-a2c3-78e836fd8b12",
   "metadata": {},
   "outputs": [],
   "source": [
    "# pandas from zybooks chapter 8.13 Data frames\n",
    "import pandas as pd\n",
    "# matplotlib from zybooks chapter 9.9 Bar charts\n",
    "import matplotlib.pyplot as plt\n",
    "# seaborn from zybooks chapter 9.9 Bar charts\n",
    "import seaborn as sns"
   ]
  },
  {
   "cell_type": "code",
   "execution_count": 3,
   "id": "b02016b6-91e5-4746-982e-0112e1538241",
   "metadata": {},
   "outputs": [],
   "source": [
    "# suppress warning: using pd.unique() with an argument that is not...will raise an error in a future version of pandas.\n",
    "import warnings\n",
    "warnings.filterwarnings(\"ignore\", message=\"unique with argument\")"
   ]
  },
  {
   "cell_type": "code",
   "execution_count": 4,
   "id": "6afdc870-03b0-440f-8888-caff1086d022",
   "metadata": {},
   "outputs": [],
   "source": [
    "file_path = 'Metamorphosis.txt'  # Path to text file\n",
    "\n",
    "# Open the file using open() from zybooks chapter 7.7 Reading files\n",
    "with open(file_path, 'r', encoding=\"utf8\") as file:\n",
    "    # Read the contents of the file and store it in a variable named Metamorphosis\n",
    "    Metamorphosis = file.read()"
   ]
  },
  {
   "cell_type": "code",
   "execution_count": 5,
   "id": "755a7657-3503-4914-982a-27d6b1bb88cb",
   "metadata": {},
   "outputs": [],
   "source": [
    "# Characters to replace with whitespace\n",
    "characters_to_replace = [',','-', '.','[',']', '“', '”','—', '#', '*', ':', ';', '\"', '!', '\\n', '/', '(', ')', '$', '™', '?', '%', '‘', '•']\n",
    "\n",
    "# Replace characters with whitespace using .replace()\n",
    "for char in characters_to_replace:\n",
    "    Metamorphosis = Metamorphosis.replace(char, ' ')\n",
    "\n",
    "# Replace consecutive whitespaces with single whitespace\n",
    "while '  ' in Metamorphosis:\n",
    "    Metamorphosis = Metamorphosis.replace('  ', ' ')\n",
    "\n",
    "# Convert the entire content to lowercase using .lower()\n",
    "Metamorphosis = Metamorphosis.lower()"
   ]
  },
  {
   "cell_type": "code",
   "execution_count": 6,
   "id": "4f723110-b9e6-4c1b-8661-ef5792a7a8f1",
   "metadata": {},
   "outputs": [
    {
     "name": "stdout",
     "output_type": "stream",
     "text": [
      "Number of words in Metamorphosis: 22047\n",
      "Number of unique words in Metamorphosis: 2616\n"
     ]
    }
   ],
   "source": [
    "# Split the string into words using split()\n",
    "words = Metamorphosis.split()\n",
    "\n",
    "# Count the number of words using len()\n",
    "num_words = len(words)\n",
    "\n",
    "# Count the number of unique words using a set from zybooks chapter 3.4 set basics\n",
    "# A set is an unordered collection of unique elements, No elements in the set share the same value\n",
    "# passing a list into set() will cause any duplicates to be omitted in the created set.\n",
    "unique_words = set(words)\n",
    "num_unique_words = len(unique_words)\n",
    "\n",
    "# Print the results\n",
    "print(\"Number of words in Metamorphosis:\", num_words)\n",
    "print(\"Number of unique words in Metamorphosis:\", num_unique_words)"
   ]
  },
  {
   "cell_type": "code",
   "execution_count": 7,
   "id": "d486b23f-dfd1-44ed-8be5-18fbf5a88a10",
   "metadata": {},
   "outputs": [
    {
     "name": "stdout",
     "output_type": "stream",
     "text": [
      "Top 40 Most Repeated Words in Metamorphosis:\n",
      "------------------------------\n",
      "the: 1148\n",
      "to: 753\n",
      "and: 642\n",
      "he: 577\n",
      "his: 550\n",
      "of: 429\n",
      "was: 409\n",
      "it: 352\n",
      "had: 352\n",
      "in: 348\n",
      "that: 333\n",
      "a: 285\n",
      "as: 242\n",
      "gregor: 199\n",
      "with: 199\n",
      "she: 196\n",
      "him: 188\n",
      "her: 187\n",
      "would: 187\n",
      "not: 176\n",
      "but: 171\n",
      "at: 169\n",
      "for: 166\n",
      "they: 156\n",
      "on: 152\n",
      "all: 135\n",
      "room: 131\n",
      "from: 119\n",
      "could: 119\n",
      "be: 119\n",
      "out: 114\n",
      "have: 107\n",
      "if: 103\n",
      "there: 102\n",
      "been: 101\n",
      "gregor’s: 99\n",
      "so: 97\n",
      "father: 96\n",
      "sister: 96\n",
      "this: 92\n"
     ]
    }
   ],
   "source": [
    "# from zybooks chapter 3.5 Dictionary basics\n",
    "# Initialize an empty dictionary to store word counts\n",
    "# Dictionaries are typically used in place of lists when an associative relationship exists\n",
    "# the key:value pairs are word and count\n",
    "wordcounts = {}\n",
    "\n",
    "# Iterate through all the words in Metamorphosis\n",
    "for word in Metamorphosis.split():\n",
    "    # Check if the word is already in the dictionary\n",
    "    if word in wordcounts:\n",
    "        # If the word is already in the dictionary, increment its count\n",
    "        wordcounts[word] += 1\n",
    "    else:\n",
    "        # If the word is not in the dictionary, add it with a count of 1\n",
    "        wordcounts[word] = 1\n",
    "\n",
    "# Sort the dictionary by values (word counts) in descending order\n",
    "sorted_wordcounts = sorted(wordcounts.items(), key=lambda x: x[1], reverse=True)\n",
    "\n",
    "# Display results for the 40 most repeated words\n",
    "print(\"Top 40 Most Repeated Words in Metamorphosis:\")\n",
    "print(\"-\" * 30)\n",
    "\n",
    "for word, count in sorted_wordcounts[:40]:\n",
    "    print(f\"{word}: {count}\")"
   ]
  },
  {
   "cell_type": "code",
   "execution_count": 8,
   "id": "093f05f0-3988-4b6f-9385-c8aa5cdce70f",
   "metadata": {},
   "outputs": [],
   "source": [
    "# Get the top 30 most repeated words and their counts\n",
    "top_words = [pair[0] for pair in sorted_wordcounts[:40]]\n",
    "top_counts = [pair[1] for pair in sorted_wordcounts[:40]]"
   ]
  },
  {
   "cell_type": "code",
   "execution_count": 9,
   "id": "d2d6928e-ea25-458f-9cab-caa87e99813c",
   "metadata": {},
   "outputs": [],
   "source": [
    "# Convert the list of words to a pandas Series\n",
    "top_words_series = pd.Series(top_words)\n",
    "\n",
    "# Get the unique values\n",
    "order = pd.unique(top_words_series)"
   ]
  },
  {
   "cell_type": "code",
   "execution_count": 10,
   "id": "05c4ace9-0001-48f1-a896-7f2af76edf4e",
   "metadata": {},
   "outputs": [],
   "source": [
    "# I used a horizontal bar chart like we learned in zybooks chapter 9.3 Bar charts\n",
    "# The chart is drawn using two axes: a category axis that displays the category names and a value axis that displays the counts\n",
    "# A horizontal bar chart is useful when numerous categories exist because the categories increase the height rather than width"
   ]
  },
  {
   "cell_type": "code",
   "execution_count": 11,
   "id": "a88b2b77-adcb-4e77-8f7d-a495a0354648",
   "metadata": {},
   "outputs": [
    {
     "data": {
      "image/png": "[encoded data removed]",
      "text/plain": [
       "<Figure size 1200x600 with 1 Axes>"
      ]
     },
     "metadata": {},
     "output_type": "display_data"
    }
   ],
   "source": [
    "# Set up the figure and axis\n",
    "plt.figure(figsize=(12, 6))\n",
    "sns.barplot(x=top_counts, y=top_words, palette=\"coolwarm\")\n",
    "\n",
    "# Set the title and labels\n",
    "plt.title(\"Top 30 Most Repeated Words in Metamorphosis\")\n",
    "# value axis that displays the counts\n",
    "plt.xlabel(\"Word Count\")\n",
    "# category labels along the category axis\n",
    "plt.ylabel(\"Word\")\n",
    "\n",
    "# Show the plot\n",
    "plt.show()"
   ]
  },
  {
   "cell_type": "code",
   "execution_count": null,
   "id": "950d1045-5d6e-4d96-9b6f-849739a41912",
   "metadata": {},
   "outputs": [],
   "source": []
  }
 ],
 "metadata": {
  "kernelspec": {
   "display_name": "Python 3 (ipykernel)",
   "language": "python",
   "name": "python3"
  },
  "language_info": {
   "codemirror_mode": {
    "name": "ipython",
    "version": 3
   },
   "file_extension": ".py",
   "mimetype": "text/x-python",
   "name": "python",
   "nbconvert_exporter": "python",
   "pygments_lexer": "ipython3",
   "version": "3.11.7"
  }
 },
 "nbformat": 4,
 "nbformat_minor": 5
}
